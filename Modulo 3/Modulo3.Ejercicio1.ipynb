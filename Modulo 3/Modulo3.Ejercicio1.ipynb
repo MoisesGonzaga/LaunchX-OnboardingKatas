{
 "cells": [
  {
   "cell_type": "code",
   "execution_count": 9,
   "metadata": {},
   "outputs": [
    {
     "name": "stdout",
     "output_type": "stream",
     "text": [
      "Asteroide no amaneza al planeta!\n"
     ]
    }
   ],
   "source": [
    "velocidadActual = 49\n",
    "prueba = False \n",
    "if velocidadActual > 25:\n",
    "    print (\"Advertencia de asteroide!\")\n",
    "else:\n",
    "    print (\"Asteroide no amaneza al planeta!\")"
   ]
  },
  {
   "cell_type": "code",
   "execution_count": 10,
   "metadata": {},
   "outputs": [
    {
     "name": "stdout",
     "output_type": "stream",
     "text": [
      "Luz invisible a los ojos\n"
     ]
    }
   ],
   "source": [
    "asteroide = 19\n",
    "if asteroide == 20:\n",
    "    print('Hay una luz mágica en el cielo!')\n",
    "elif asteroide > 20:\n",
    "    print('Hay una luz mágica en el cielo!')\n",
    "else:\n",
    "    print('Luz invisible a los ojos')"
   ]
  },
  {
   "cell_type": "code",
   "execution_count": null,
   "metadata": {},
   "outputs": [],
   "source": [
    "velocidad_asteroide = 25\n",
    "tamano_asteroide = 40\n",
    "if velocidad_asteroide > 25 and tamano_asteroide > 25:\n",
    "    print('Asteroide peligroso se dirige hacia la Tierra!')\n",
    "elif velocidad_asteroide >= 20:\n",
    "    print('Advertencia.')\n",
    "elif tamano_asteroide < 25:\n",
    "    print('Nada que ver aquí :)')\n",
    "else:\n",
    "    print('Nada que ver aquí :)')"
   ]
  }
 ],
 "metadata": {
  "interpreter": {
   "hash": "2be5faf79681da6f2a61fdfdd5405d65d042280f7fba6178067603e3a2925119"
  },
  "kernelspec": {
   "display_name": "Python 3.10.0 64-bit",
   "language": "python",
   "name": "python3"
  },
  "language_info": {
   "codemirror_mode": {
    "name": "ipython",
    "version": 3
   },
   "file_extension": ".py",
   "mimetype": "text/x-python",
   "name": "python",
   "nbconvert_exporter": "python",
   "pygments_lexer": "ipython3",
   "version": "3.10.0"
  },
  "orig_nbformat": 4
 },
 "nbformat": 4,
 "nbformat_minor": 2
}
